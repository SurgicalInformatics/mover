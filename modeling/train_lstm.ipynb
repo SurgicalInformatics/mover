{
 "cells": [
  {
   "cell_type": "code",
   "execution_count": 1,
   "metadata": {},
   "outputs": [],
   "source": [
    "import numpy as np\n",
    "import torch\n",
    "import torch.nn as nn\n",
    "from utils import seed_torch, print_metrics_binary\n",
    "import pickle\n",
    "from data_utils import get_dataloader\n",
    "from model.lstm import LSTM\n",
    "from tqdm import tqdm\n",
    "import datetime\n",
    "import logging\n",
    "seed_torch()"
   ]
  },
  {
   "cell_type": "code",
   "execution_count": 2,
   "metadata": {},
   "outputs": [
    {
     "name": "stderr",
     "output_type": "stream",
     "text": [
      "2023-09-08 02:22:39,950 - INFO - 78, 12, 23\n"
     ]
    }
   ],
   "source": [
    "dataset_dict = pickle.load(open('/home/common/mover_data/surginf_cleaned/dataset_dict.pkl', 'rb'))\n",
    "\n",
    "\n",
    "batch_size = 512\n",
    "device = torch.device('cuda' if torch.cuda.is_available() else 'cpu')\n",
    "logging.basicConfig(level=logging.INFO,\n",
    "                    format='%(asctime)s - %(levelname)s - %(message)s',\n",
    "                    handlers=[logging.StreamHandler(),\n",
    "                              logging.FileHandler(\"./log/train_lstm_{}.log\".format(datetime.datetime.now().strftime(\"%Y%m%d-%H%M%S\")))])\n",
    "\n",
    "train_loader = get_dataloader(dataset_dict['train'], batch_size=batch_size, shuffle=True)\n",
    "val_loader = get_dataloader(dataset_dict['val'], batch_size=batch_size, shuffle=False)\n",
    "test_loader = get_dataloader(dataset_dict['test'], batch_size=batch_size, shuffle=False)\n",
    "\n",
    "logging.info('%d, %d, %d'%(len(train_loader), len(val_loader), len(test_loader)))"
   ]
  },
  {
   "cell_type": "code",
   "execution_count": 3,
   "metadata": {},
   "outputs": [
    {
     "name": "stdout",
     "output_type": "stream",
     "text": [
      "torch.Size([512, 980, 34]) torch.Size([512]) torch.Size([512, 980])\n"
     ]
    }
   ],
   "source": [
    "# Get a sample batch\n",
    "for batch in train_loader:\n",
    "    print(batch[0].shape, batch[1].shape, batch[2].shape)\n",
    "    break"
   ]
  },
  {
   "cell_type": "code",
   "execution_count": 4,
   "metadata": {},
   "outputs": [],
   "source": [
    "input_size = 34\n",
    "hidden_size = 64\n",
    "learning_rate = 1e-3\n",
    "\n",
    "model = LSTM(input_dim=input_size, hidden_dim=hidden_size).to(device)\n",
    "loss_fn = model.get_loss\n",
    "optimizer = torch.optim.Adam(model.parameters(), lr=learning_rate)\n"
   ]
  },
  {
   "cell_type": "code",
   "execution_count": null,
   "metadata": {},
   "outputs": [
    {
     "name": "stderr",
     "output_type": "stream",
     "text": [
      "2023-09-08 02:22:48,670 - INFO - Epoch: 0, Step: 0/78, Loss: 0.7483769655227661\n"
     ]
    }
   ],
   "source": [
    "epochs = 100\n",
    "best_score = 0\n",
    "\n",
    "for epoch in range(epochs):\n",
    "    model.train()\n",
    "    for i, batch in enumerate(train_loader):\n",
    "        X, y, mask = batch\n",
    "        X = X.to(device)\n",
    "        y = y.to(device).unsqueeze(-1)\n",
    "        mask = mask.to(device)\n",
    "        optimizer.zero_grad()\n",
    "        loss = loss_fn(X, y, mask)\n",
    "        \n",
    "        loss.backward()\n",
    "        optimizer.step()\n",
    "        if i % 10 == 0:\n",
    "            logging.info('Epoch: {}, Step: {}/{}, Loss: {}'.format(epoch, i, len(train_loader), loss.item()))\n",
    "    model.eval()\n",
    "    with torch.no_grad():\n",
    "        y_pred = []\n",
    "        y_true = []\n",
    "        for batch in tqdm(val_loader):\n",
    "            X, y, mask = batch\n",
    "            X = X.to(device)\n",
    "            y = y.to(device)\n",
    "            mask = mask.to(device)\n",
    "            y_pred.append(model(X, mask))\n",
    "            y_true.append(y)\n",
    "        y_pred = torch.cat(y_pred, dim=0).squeeze().cpu().numpy()\n",
    "        y_true = torch.cat(y_true, dim=0).squeeze().cpu().numpy()\n",
    "        ret = print_metrics_binary(y_true, y_pred, verbose=0)\n",
    "        if ret['auprc'] > best_score:\n",
    "            best_score = ret['auprc'] \n",
    "            torch.save(model.state_dict(), 'weights/lstm_model.pt')\n",
    "            logging.info('Saved model')"
   ]
  },
  {
   "cell_type": "code",
   "execution_count": null,
   "metadata": {},
   "outputs": [],
   "source": [
    "model.eval()\n",
    "model.load_state_dict(torch.load('weights/lstm_model.pt'))\n",
    "with torch.no_grad():\n",
    "    y_pred = []\n",
    "    y_true = []\n",
    "    for batch in tqdm(test_loader):\n",
    "        X, y, mask = batch\n",
    "        X = X.to(device)\n",
    "        y = y.to(device)\n",
    "        mask = mask.to(device)\n",
    "        y_pred.append(model(X, mask))\n",
    "        y_true.append(y)\n",
    "    y_pred = torch.cat(y_pred, dim=0).squeeze().cpu().numpy()\n",
    "    y_true = torch.cat(y_true, dim=0).squeeze().cpu().numpy()\n",
    "    ret = print_metrics_binary(y_true, y_pred, verbose=1)\n",
    "    logging.info('{}'%ret)"
   ]
  },
  {
   "cell_type": "code",
   "execution_count": null,
   "metadata": {},
   "outputs": [],
   "source": []
  }
 ],
 "metadata": {
  "kernelspec": {
   "display_name": "Python 3 (ipykernel)",
   "language": "python",
   "name": "python3"
  },
  "language_info": {
   "codemirror_mode": {
    "name": "ipython",
    "version": 3
   },
   "file_extension": ".py",
   "mimetype": "text/x-python",
   "name": "python",
   "nbconvert_exporter": "python",
   "pygments_lexer": "ipython3",
   "version": "3.9.12"
  }
 },
 "nbformat": 4,
 "nbformat_minor": 2
}
